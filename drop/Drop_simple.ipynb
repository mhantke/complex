{
 "cells": [
  {
   "cell_type": "markdown",
   "metadata": {},
   "source": [
    "# Complex in droplet simulation"
   ]
  },
  {
   "cell_type": "code",
   "execution_count": 5,
   "metadata": {
    "collapsed": false
   },
   "outputs": [
    {
     "name": "stdout",
     "output_type": "stream",
     "text": [
      "Populating the interactive namespace from numpy and matplotlib\n",
      "/Library/Python/2.7/site-packages/popdrop.so\n"
     ]
    }
   ],
   "source": [
    "%pylab inline\n",
    "import scipy.constants\n",
    "import time\n",
    "import popdrop\n",
    "print popdrop.__file__"
   ]
  },
  {
   "cell_type": "markdown",
   "metadata": {},
   "source": [
    "## Parameters"
   ]
  },
  {
   "cell_type": "code",
   "execution_count": 6,
   "metadata": {
    "collapsed": true
   },
   "outputs": [],
   "source": [
    "# Molar protein concentration\n",
    "#c_molar = 2.5E-6 # [mol/l]\n",
    "c_molar = 100E-6\n",
    "#c_molar = 200E-6 # [mol/l]\n",
    "# Protein mass\n",
    "m_P = 53.3E3 # [Da]\n",
    "# Simulation volume\n",
    "V = 0.125E-18 # [m^3]\n",
    "# Correction factor\n",
    "x = 2.\n",
    "# Droplet radius (will be later rescaled to R_D_ksi)\n",
    "R_D = 9.E-9\n",
    "# Protein mass density\n",
    "rho_P = 0.84 / (1E-10)**3 # [Da/m^3]"
   ]
  },
  {
   "cell_type": "markdown",
   "metadata": {},
   "source": [
    "## Derived parameters"
   ]
  },
  {
   "cell_type": "code",
   "execution_count": 8,
   "metadata": {
    "collapsed": false
   },
   "outputs": [],
   "source": [
    "# Hard sphere radius of protein\n",
    "R_S = (m_P/rho_P * 3./4./pi)**(1/3.)\n",
    "# Rescaled droplet radius\n",
    "#R_D_xi = R_D * x\n",
    "R_D_xi = array([20,25,30,35])*1E-9\n",
    "# Rescaled droplet volume\n",
    "V_D_xi = 4/3.*pi*R_D_xi**3\n",
    "# SI protein concentration\n",
    "c = c_molar * scipy.constants.Avogadro / 0.1**3 # [1/m^3]\n",
    "# Expectation value for number of particles per droplet\n",
    "p_D_xi = c * V_D_xi\n",
    "# Number of particles in virutual box\n",
    "N = int(round(V * c))\n",
    "# Edge length of virtual box\n",
    "L = V**(1/3.)"
   ]
  },
  {
   "cell_type": "markdown",
   "metadata": {},
   "source": [
    "## Assign positions"
   ]
  },
  {
   "cell_type": "code",
   "execution_count": 9,
   "metadata": {
    "collapsed": false
   },
   "outputs": [],
   "source": [
    "from python_tools import multiprocesstools as mpt"
   ]
  },
  {
   "cell_type": "code",
   "execution_count": 15,
   "metadata": {
    "collapsed": false
   },
   "outputs": [],
   "source": [
    "import logging\n",
    "logger = logging.getLogger(\"drop\")\n",
    "import h5py\n",
    "Nprocesses = 16\n",
    "Njobs = 1600\n",
    "results = []\n",
    "def worker_i(D, i):\n",
    "    return {\"pos\" : popdrop.popdrop(N, L, R_S, R_D_xi[i])}\n",
    "def getwork():\n",
    "    return {}\n",
    "def logres_i(res, i):\n",
    "    with h5py.File(\"drops_%i.h5\" % i, \"r+\") as f:\n",
    "        i = f[\"/i\"][0]\n",
    "        n_particles = len(res[\"pos\"])\n",
    "        f[\"/n_particles\"][i] = n_particles\n",
    "        if n_particles > 0:\n",
    "            n = min([n_particles,f[\"/pos\"].shape[1]])\n",
    "            f[\"/pos\"][i,:n,:] = res[\"pos\"][:,:]\n",
    "        f[\"/i\"][0] = i + 1\n",
    "def loginit_i(i, N_max=10):\n",
    "    with h5py.File(\"drops_%i.h5\" % i, \"w\") as f:\n",
    "        f[\"/n_particles\"] = numpy.zeros(shape=(Njobs))\n",
    "        f[\"/pos\"] = numpy.zeros(shape=(Njobs,N_max,3))\n",
    "        f[\"/i\"] = [0]\n",
    "def getres_i(i):\n",
    "    with h5py.File(\"drops_%i.h5\" % i, \"r\") as f:\n",
    "        pos = array(f[\"/pos\"])\n",
    "        n_particles = array(f[\"/n_particles\"])\n",
    "    return n_particles,pos"
   ]
  },
  {
   "cell_type": "code",
   "execution_count": 16,
   "metadata": {
    "collapsed": false
   },
   "outputs": [
    {
     "name": "stdout",
     "output_type": "stream",
     "text": [
      "0 2e-08\n",
      "initialised\n",
      "mp started\n",
      "collect res\n",
      "1 2.5e-08\n",
      "initialised\n",
      "mp started\n",
      "collect res\n",
      "2 3e-08\n",
      "initialised\n",
      "mp started\n",
      "collect res\n",
      "3 3.5e-08\n",
      "initialised\n",
      "mp started\n",
      "collect res\n"
     ]
    }
   ],
   "source": [
    "n_particles = []\n",
    "res = []\n",
    "for i in range(len(R_D_xi)):\n",
    "    print i, R_D_xi[i]\n",
    "    loginit_i(i, N_max=40)\n",
    "    print \"initialised\"\n",
    "    mpt.multiprocess(Nprocesses,\n",
    "                     Njobs, \n",
    "                     lambda D: worker_i(D, i),\n",
    "                     getwork, \n",
    "                     logres = lambda res:logres_i(res, i),\n",
    "                     logger = logger)\n",
    "    print \"mp started\"\n",
    "    n_particles_i,res_i = getres_i(i)\n",
    "    print \"collect res\"\n",
    "    n_particles.append(n_particles_i)\n",
    "    res.append(res_i)"
   ]
  },
  {
   "cell_type": "markdown",
   "metadata": {},
   "source": [
    "## Compare to Poisson distribution"
   ]
  },
  {
   "cell_type": "code",
   "execution_count": 17,
   "metadata": {
    "collapsed": false
   },
   "outputs": [
    {
     "data": {
      "image/png": "[encoded data removed]",
      "text/plain": [
       "<matplotlib.figure.Figure at 0x106165650>"
      ]
     },
     "metadata": {},
     "output_type": "display_data"
    },
    {
     "data": {
      "image/png": "[encoded data removed]",
      "text/plain": [
       "<matplotlib.figure.Figure at 0x107af5b10>"
      ]
     },
     "metadata": {},
     "output_type": "display_data"
    },
    {
     "data": {
      "image/png": "[encoded data removed]",
      "text/plain": [
       "<matplotlib.figure.Figure at 0x1078f5550>"
      ]
     },
     "metadata": {},
     "output_type": "display_data"
    },
    {
     "data": {
      "image/png": "[encoded data removed]",
      "text/plain": [
       "<matplotlib.figure.Figure at 0x10792ccd0>"
      ]
     },
     "metadata": {},
     "output_type": "display_data"
    }
   ],
   "source": [
    "from scipy.misc import factorial\n",
    "for i, res_i, n_particles_i in zip(range(len(res)), res, n_particles):\n",
    "    H = histogram(n_particles_i, bins=21, range=(0,21))\n",
    "    hist_n = H[0]\n",
    "    hist_bins = H[1]\n",
    "    hist_bins = hist_bins[:-1] #+ (hist_bins[1]-hist_bins[0])/2.\n",
    "    poisson_model = lambda k,l: (l**k*exp(-l))/factorial(k)\n",
    "    hist_n_poisson = array([poisson_model(n, p_D_xi[i]) for n in hist_bins])\n",
    "    figure()\n",
    "    plot(hist_bins, hist_n_poisson*hist_n.sum()/hist_n_poisson.sum(),c=\"black\")\n",
    "    plot(hist_bins, hist_n,c='blue')"
   ]
  },
  {
   "cell_type": "code",
   "execution_count": null,
   "metadata": {
    "collapsed": false
   },
   "outputs": [],
   "source": []
  },
  {
   "cell_type": "code",
   "execution_count": null,
   "metadata": {
    "collapsed": false
   },
   "outputs": [],
   "source": []
  },
  {
   "cell_type": "code",
   "execution_count": null,
   "metadata": {
    "collapsed": true
   },
   "outputs": [],
   "source": []
  }
 ],
 "metadata": {
  "kernelspec": {
   "display_name": "Python 2",
   "language": "python",
   "name": "python2"
  },
  "language_info": {
   "codemirror_mode": {
    "name": "ipython",
    "version": 2
   },
   "file_extension": ".py",
   "mimetype": "text/x-python",
   "name": "python",
   "nbconvert_exporter": "python",
   "pygments_lexer": "ipython2",
   "version": "2.7.10"
  }
 },
 "nbformat": 4,
 "nbformat_minor": 0
}
