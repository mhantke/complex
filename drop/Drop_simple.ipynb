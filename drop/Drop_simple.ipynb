{
 "cells": [
  {
   "cell_type": "markdown",
   "metadata": {},
   "source": [
    "# Complex in droplet simulation"
   ]
  },
  {
   "cell_type": "code",
   "execution_count": 1,
   "metadata": {
    "collapsed": false
   },
   "outputs": [
    {
     "name": "stdout",
     "output_type": "stream",
     "text": [
      "Populating the interactive namespace from numpy and matplotlib\n"
     ]
    }
   ],
   "source": [
    "%pylab inline\n",
    "import scipy.constants\n",
    "import time\n",
    "import popdrop"
   ]
  },
  {
   "cell_type": "markdown",
   "metadata": {},
   "source": [
    "## Parameters"
   ]
  },
  {
   "cell_type": "code",
   "execution_count": 47,
   "metadata": {
    "collapsed": true
   },
   "outputs": [],
   "source": [
    "# Molar protein concentration\n",
    "#c_molar = 2.5E-6 # [mol/l]\n",
    "c_molar = 100E-6\n",
    "#c_molar = 200E-6 # [mol/l]\n",
    "# Protein mass\n",
    "m_P = 53.3E3 # [Da]\n",
    "# Simulation volume\n",
    "V = 0.125E-18 # [m^3]\n",
    "# Correction factor\n",
    "ksi = 2.\n",
    "# ksi = 30.\n",
    "# Droplet radius (will be later rescaled to R_D_ksi)\n",
    "R_D = 9.E-9"
   ]
  },
  {
   "cell_type": "markdown",
   "metadata": {},
   "source": [
    "## Constants"
   ]
  },
  {
   "cell_type": "code",
   "execution_count": 48,
   "metadata": {
    "collapsed": true
   },
   "outputs": [],
   "source": [
    "# Protein mass density\n",
    "rho_P = 0.84 / (1E-10)**3 # [Da/m^3]"
   ]
  },
  {
   "cell_type": "markdown",
   "metadata": {},
   "source": [
    "## Derived parameters"
   ]
  },
  {
   "cell_type": "code",
   "execution_count": 49,
   "metadata": {
    "collapsed": false
   },
   "outputs": [],
   "source": [
    "# Hard sphere radius of protein\n",
    "R_S = (m_P/rho_P * 3./4./pi)**(1/3.)\n",
    "# Rescaled droplet radius\n",
    "R_D_ksi = R_D * ksi\n",
    "# SI protein concentration\n",
    "c = c_molar * scipy.constants.Avogadro / 0.1**3 # [1/m^3]\n",
    "# Number of particles in virutual box\n",
    "N = int(round(V * c))\n",
    "# Edge length of virtual box\n",
    "L = V**(1/3.)"
   ]
  },
  {
   "cell_type": "markdown",
   "metadata": {},
   "source": [
    "## Assign positions"
   ]
  },
  {
   "cell_type": "code",
   "execution_count": 5,
   "metadata": {
    "collapsed": false
   },
   "outputs": [],
   "source": [
    "def get_distance_sq(pos1, pos2):\n",
    "    return ((pos1-pos2)**2).sum()\n",
    "\n",
    "def get_distances_sq(positions, pos1):\n",
    "    return ((positions-pos1)**2).sum(1)\n",
    "\n",
    "def populate_box():\n",
    "    r = array([rand(3)])\n",
    "    d_sq_min = (R_S/L)**2\n",
    "    for i in range(1,N):\n",
    "        d_sq = 0\n",
    "        while d_sq < d_sq_min:\n",
    "            new = rand(3)\n",
    "            d_sq = get_distances_sq(r,new).min()\n",
    "        r = list(r)\n",
    "        r.append(new)\n",
    "        r = array(r)\n",
    "    r *= L\n",
    "    return r\n",
    "\n",
    "def select_drop(r):\n",
    "    x = ones(3) * L/2.\n",
    "    pos = [r_close for r_close in r if get_distance_sq(r_close,x)<=R_D_ksi**2]\n",
    "    return pos\n",
    "\n",
    "def make_drop():\n",
    "    seed()\n",
    "    r = populate_box()\n",
    "    pos = select_drop(r)\n",
    "    print len(pos)\n",
    "    return len(pos)\n",
    "\n"
   ]
  },
  {
   "cell_type": "code",
   "execution_count": null,
   "metadata": {
    "collapsed": true
   },
   "outputs": [],
   "source": [
    "import multiprocessing\n",
    "jobs = []\n",
    "for i in range(20):\n",
    "    p = multiprocessing.Process(target=make_drop)\n",
    "    jobs.append(p)\n",
    "    p.start()\n",
    "    time.sleep(0.01)\n",
    "for j in jobs:\n",
    "    j.join()"
   ]
  },
  {
   "cell_type": "code",
   "execution_count": 6,
   "metadata": {
    "collapsed": true
   },
   "outputs": [],
   "source": [
    "B = populate_box()"
   ]
  },
  {
   "cell_type": "code",
   "execution_count": 8,
   "metadata": {
    "collapsed": false
   },
   "outputs": [
    {
     "data": {
      "text/plain": [
       "7528"
      ]
     },
     "execution_count": 8,
     "metadata": {},
     "output_type": "execute_result"
    }
   ],
   "source": [
    "len(B)"
   ]
  },
  {
   "cell_type": "code",
   "execution_count": 12,
   "metadata": {
    "collapsed": false
   },
   "outputs": [
    {
     "data": {
      "text/plain": [
       "100.00429598024239"
      ]
     },
     "execution_count": 12,
     "metadata": {},
     "output_type": "execute_result"
    }
   ],
   "source": [
    "len(B) / L**3 * (0.1)**3 / scipy.constants.Avogadro / 1E-6"
   ]
  },
  {
   "cell_type": "code",
   "execution_count": 15,
   "metadata": {
    "collapsed": false
   },
   "outputs": [
    {
     "name": "stdout",
     "output_type": "stream",
     "text": [
      "1.41421356237\n"
     ]
    }
   ],
   "source": [
    "d_sq = get_distance_sq(array([0,1,1]),array([0,2,2]))\n",
    "print sqrt(d_sq)"
   ]
  },
  {
   "cell_type": "code",
   "execution_count": 27,
   "metadata": {
    "collapsed": false
   },
   "outputs": [
    {
     "data": {
      "text/plain": [
       "[array([  2.51642003e-07,   2.51777770e-07,   2.52830663e-07])]"
      ]
     },
     "execution_count": 27,
     "metadata": {},
     "output_type": "execute_result"
    }
   ],
   "source": [
    "select_drop(B)"
   ]
  },
  {
   "cell_type": "code",
   "execution_count": null,
   "metadata": {
    "collapsed": false
   },
   "outputs": [],
   "source": [
    "n = zeros(50000)\n",
    "for i in range(len(n)):\n",
    "    n[i] = len(popdrop.popdrop(N, L, R_S, R_D_ksi))"
   ]
  },
  {
   "cell_type": "code",
   "execution_count": 5,
   "metadata": {
    "collapsed": false
   },
   "outputs": [],
   "source": [
    "from python_tools import multiprocesstools as mpt"
   ]
  },
  {
   "cell_type": "code",
   "execution_count": 50,
   "metadata": {
    "collapsed": false
   },
   "outputs": [],
   "source": [
    "import logging\n",
    "logger = logging.getLogger(\"drop\")\n",
    "import h5py\n",
    "Nprocesses = 16\n",
    "Njobs = 8000\n",
    "results = []\n",
    "def worker(D):\n",
    "    return {\"pos\" : popdrop.popdrop(N, L, R_S, R_D_ksi)}\n",
    "def getwork():\n",
    "    return {}\n",
    "def logres(res):\n",
    "    with h5py.File(\"drops.h5\", \"r+\") as f:\n",
    "        i = f[\"/i\"][0]\n",
    "        n_particles = len(res[\"pos\"])\n",
    "        f[\"/n_particles\"][i] = n_particles\n",
    "        if n_particles > 0:\n",
    "            n = min([n_particles,f[\"/pos\"].shape[1]])\n",
    "            f[\"/pos\"][i,:n,:] = res[\"pos\"][:,:]\n",
    "        f[\"/i\"][0] = i + 1\n",
    "def loginit(N_max=10):\n",
    "    with h5py.File(\"drops.h5\", \"w\") as f:\n",
    "        f[\"/n_particles\"] = numpy.zeros(shape=(Njobs))\n",
    "        f[\"/pos\"] = numpy.zeros(shape=(Njobs,N_max,3))\n",
    "        f[\"/i\"] = [0]\n",
    "def getres():\n",
    "    with h5py.File(\"drops.h5\", \"r\") as f:\n",
    "        pos = array(f[\"/pos\"])\n",
    "        n_particles = array(f[\"/n_particles\"])\n",
    "    return n_particles,pos"
   ]
  },
  {
   "cell_type": "code",
   "execution_count": 51,
   "metadata": {
    "collapsed": false
   },
   "outputs": [],
   "source": [
    "loginit(10)\n",
    "mpt.multiprocess(Nprocesses,Njobs,worker,getwork,logres=logres,logger=logger)"
   ]
  },
  {
   "cell_type": "code",
   "execution_count": 52,
   "metadata": {
    "collapsed": false
   },
   "outputs": [
    {
     "data": {
      "text/plain": [
       "11886.0"
      ]
     },
     "execution_count": 52,
     "metadata": {},
     "output_type": "execute_result"
    }
   ],
   "source": [
    "n_particles,res = getres()\n",
    "n_particles.sum()"
   ]
  },
  {
   "cell_type": "code",
   "execution_count": 75,
   "metadata": {
    "collapsed": false
   },
   "outputs": [
    {
     "data": {
      "text/plain": [
       "[<matplotlib.lines.Line2D at 0x107d43110>]"
      ]
     },
     "execution_count": 75,
     "metadata": {},
     "output_type": "execute_result"
    },
    {
     "data": {
      "image/png": "[encoded data removed]",
      "text/plain": [
       "<matplotlib.figure.Figure at 0x107af26d0>"
      ]
     },
     "metadata": {},
     "output_type": "display_data"
    }
   ],
   "source": [
    "from scipy.misc import factorial\n",
    "H = histogram(n_particles, bins=10, range=(0,10))\n",
    "hist_n = H[0]\n",
    "hist_bins = H[1]\n",
    "hist_bins = hist_bins[:-1] #+ (hist_bins[1]-hist_bins[0])/2.\n",
    "l = n_particles.mean()\n",
    "poisson_model = lambda k,l: (l**k*exp(-l))/factorial(k)\n",
    "hist_n_poisson = array([poisson_model(n, n_particles.mean()) for n in hist_bins])\n",
    "plot(hist_bins, hist_n_poisson*hist_n.sum()/hist_n_poisson.sum())\n",
    "plot(hist_bins, hist_n)"
   ]
  },
  {
   "cell_type": "code",
   "execution_count": null,
   "metadata": {
    "collapsed": false
   },
   "outputs": [],
   "source": []
  },
  {
   "cell_type": "code",
   "execution_count": null,
   "metadata": {
    "collapsed": false
   },
   "outputs": [],
   "source": []
  },
  {
   "cell_type": "code",
   "execution_count": null,
   "metadata": {
    "collapsed": true
   },
   "outputs": [],
   "source": []
  }
 ],
 "metadata": {
  "kernelspec": {
   "display_name": "Python 2",
   "language": "python",
   "name": "python2"
  },
  "language_info": {
   "codemirror_mode": {
    "name": "ipython",
    "version": 2
   },
   "file_extension": ".py",
   "mimetype": "text/x-python",
   "name": "python",
   "nbconvert_exporter": "python",
   "pygments_lexer": "ipython2",
   "version": "2.7.10"
  }
 },
 "nbformat": 4,
 "nbformat_minor": 0
}
