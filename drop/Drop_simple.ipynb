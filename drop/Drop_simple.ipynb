{
 "cells": [
  {
   "cell_type": "markdown",
   "metadata": {},
   "source": [
    "# Complex in droplet simulation"
   ]
  },
  {
   "cell_type": "code",
   "execution_count": 95,
   "metadata": {
    "collapsed": false
   },
   "outputs": [
    {
     "name": "stdout",
     "output_type": "stream",
     "text": [
      "Populating the interactive namespace from numpy and matplotlib\n"
     ]
    }
   ],
   "source": [
    "%pylab inline\n",
    "import scipy.constants\n",
    "import time"
   ]
  },
  {
   "cell_type": "markdown",
   "metadata": {},
   "source": [
    "## Parameters"
   ]
  },
  {
   "cell_type": "code",
   "execution_count": 133,
   "metadata": {
    "collapsed": true
   },
   "outputs": [],
   "source": [
    "# Molar protein concentration\n",
    "#c_molar = 2.5E-6 # [mol/l]\n",
    "c_molar = 100E-6\n",
    "#c_molar = 200E-6 # [mol/l]\n",
    "# Protein mass\n",
    "m_P = 53.3E3 # [Da]\n",
    "# Simulation volume\n",
    "V = 0.125E-18 # [m^3]\n",
    "# Correction factor\n",
    "ksi = 20.\n",
    "# ksi = 30.\n",
    "# Droplet radius (will be later rescaled to R_D_ksi)\n",
    "R_D = 9.E-9"
   ]
  },
  {
   "cell_type": "markdown",
   "metadata": {},
   "source": [
    "## Constants"
   ]
  },
  {
   "cell_type": "code",
   "execution_count": 134,
   "metadata": {
    "collapsed": true
   },
   "outputs": [],
   "source": [
    "# Protein mass density\n",
    "rho_P = 0.84 / (1E-10)**3 # [Da/m^3]"
   ]
  },
  {
   "cell_type": "markdown",
   "metadata": {},
   "source": [
    "## Derived parameters"
   ]
  },
  {
   "cell_type": "code",
   "execution_count": 167,
   "metadata": {
    "collapsed": false
   },
   "outputs": [],
   "source": [
    "# Hard sphere radius of protein\n",
    "R_S = (m_P/rho_P * 3./4./pi)**(1/3.)\n",
    "# Rescaled droplet radius\n",
    "R_D_ksi = R_D * ksi\n",
    "# SI protein concentration\n",
    "c = c_molar * scipy.constants.Avogadro / 0.1**3 # [1/m^3]\n",
    "# Number of particles in virutual box\n",
    "N = int(round(V * c))\n",
    "# Edge length of virtual box\n",
    "L = V**(1/3.)"
   ]
  },
  {
   "cell_type": "markdown",
   "metadata": {},
   "source": [
    "## Assign positions"
   ]
  },
  {
   "cell_type": "code",
   "execution_count": 172,
   "metadata": {
    "collapsed": false
   },
   "outputs": [
    {
     "name": "stdout",
     "output_type": "stream",
     "text": [
      "1476\n",
      "1516\n",
      "1503\n",
      "1478\n",
      "1516\n",
      "1467\n",
      "1458\n",
      "1556\n",
      "1414\n",
      "1504\n",
      "1418\n",
      "1476\n",
      "1488\n",
      "1386\n",
      "1499\n",
      "1473\n",
      "1531\n",
      "1518\n",
      "1532\n",
      "1542\n"
     ]
    }
   ],
   "source": [
    "def get_distance_sq(pos1, pos2):\n",
    "    return ((pos1-pos2)**2).sum()\n",
    "\n",
    "def get_distances_sq(positions, pos1):\n",
    "    return ((positions-pos1)**2).sum(1)\n",
    "\n",
    "def populate_box():\n",
    "    r = array([rand(3)])\n",
    "    d_sq_min = (R_S/L)**2\n",
    "    for i in range(1,N):\n",
    "        d_sq = 0\n",
    "        while d_sq < d_sq_min:\n",
    "            new = rand(3)\n",
    "            d_sq = get_distances_sq(r,new).min()\n",
    "        r = list(r)\n",
    "        r.append(new)\n",
    "        r = array(r)\n",
    "    r *= L\n",
    "    return r\n",
    "\n",
    "def select_drop(r):\n",
    "    x = ones(3) * L/2.\n",
    "    pos = [r_close for r_close in r if get_distance_sq(r_close,x)<=R_D_ksi**2]\n",
    "    return pos\n",
    "\n",
    "def make_drop():\n",
    "    seed()\n",
    "    r = populate_box()\n",
    "    pos = select_drop(r)\n",
    "    print len(pos)\n",
    "    return len(pos)\n",
    "\n",
    "import multiprocessing\n",
    "jobs = []\n",
    "for i in range(20):\n",
    "    p = multiprocessing.Process(target=make_drop)\n",
    "    jobs.append(p)\n",
    "    p.start()\n",
    "    time.sleep(0.01)\n",
    "for j in jobs:\n",
    "    j.join()"
   ]
  },
  {
   "cell_type": "code",
   "execution_count": null,
   "metadata": {
    "collapsed": true
   },
   "outputs": [],
   "source": []
  }
 ],
 "metadata": {
  "kernelspec": {
   "display_name": "Python 2",
   "language": "python",
   "name": "python2"
  },
  "language_info": {
   "codemirror_mode": {
    "name": "ipython",
    "version": 2
   },
   "file_extension": ".py",
   "mimetype": "text/x-python",
   "name": "python",
   "nbconvert_exporter": "python",
   "pygments_lexer": "ipython2",
   "version": "2.7.10"
  }
 },
 "nbformat": 4,
 "nbformat_minor": 0
}
