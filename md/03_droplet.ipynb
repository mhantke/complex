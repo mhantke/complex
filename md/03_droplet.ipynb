{
 "cells": [
  {
   "cell_type": "code",
   "execution_count": 8,
   "metadata": {
    "collapsed": false
   },
   "outputs": [
    {
     "name": "stdout",
     "output_type": "stream",
     "text": [
      "Populating the interactive namespace from numpy and matplotlib\n"
     ]
    }
   ],
   "source": [
    "%pylab inline\n",
    "from scipy import constants"
   ]
  },
  {
   "cell_type": "code",
   "execution_count": 22,
   "metadata": {
    "collapsed": false
   },
   "outputs": [
    {
     "name": "stdout",
     "output_type": "stream",
     "text": [
      "Waters to remove: Nw = 420586 (522748 in box)\n",
      "Atoms to remove: Aw = 1261759 (1568245 in box)\n"
     ]
    }
   ],
   "source": [
    "# Volume of box\n",
    "Vb = (25E-9)**3\n",
    "# Volume of droplet\n",
    "Vd = 4/3. * pi * (9E-9)**3\n",
    "# Volume of corners that we want to remove\n",
    "Vc = Vb-Vd\n",
    "# Volume of 216 SPC water\n",
    "V216 = (1.86206E-9)**3\n",
    "# Volume per water molecule,\n",
    "Vw = V216 / 216.\n",
    "# Waters in box\n",
    "Nwb = Vb / Vw\n",
    "# Waters to remove, \n",
    "Nw = Vc / Vw\n",
    "print \"Waters to remove: Nw = %i (%i in box)\" % (Nw,Nwb) #= 420,587 molecules\n",
    "Awb = Nwb * 3\n",
    "Aw = Nw * 3\n",
    "print \"Atoms to remove: Aw = %i (%i in box)\" % (Aw,Awb)#, Aw = Nw * 3 = 1,261,761"
   ]
  },
  {
   "cell_type": "code",
   "execution_count": 23,
   "metadata": {
    "collapsed": false
   },
   "outputs": [],
   "source": [
    "# Physiological NaCl concentration: 0.154 M \n",
    "c_NaCl_molar = 0.154\n",
    "# In SI (particles/m^3)\n",
    "c_NaCl = c_NaCl_molar * constants.N_A / (0.1)**3"
   ]
  },
  {
   "cell_type": "code",
   "execution_count": null,
   "metadata": {
    "collapsed": true
   },
   "outputs": [],
   "source": []
  },
  {
   "cell_type": "code",
   "execution_count": null,
   "metadata": {
    "collapsed": false
   },
   "outputs": [],
   "source": []
  },
  {
   "cell_type": "code",
   "execution_count": null,
   "metadata": {
    "collapsed": false
   },
   "outputs": [],
   "source": []
  },
  {
   "cell_type": "code",
   "execution_count": null,
   "metadata": {
    "collapsed": false
   },
   "outputs": [],
   "source": []
  },
  {
   "cell_type": "code",
   "execution_count": null,
   "metadata": {
    "collapsed": false
   },
   "outputs": [],
   "source": []
  },
  {
   "cell_type": "code",
   "execution_count": null,
   "metadata": {
    "collapsed": true
   },
   "outputs": [],
   "source": []
  }
 ],
 "metadata": {
  "kernelspec": {
   "display_name": "Python 2",
   "language": "python",
   "name": "python2"
  },
  "language_info": {
   "codemirror_mode": {
    "name": "ipython",
    "version": 2
   },
   "file_extension": ".py",
   "mimetype": "text/x-python",
   "name": "python",
   "nbconvert_exporter": "python",
   "pygments_lexer": "ipython2",
   "version": "2.7.10"
  }
 },
 "nbformat": 4,
 "nbformat_minor": 0
}
