{
 "cells": [
  {
   "cell_type": "code",
   "execution_count": 1,
   "metadata": {
    "collapsed": false
   },
   "outputs": [
    {
     "name": "stdout",
     "output_type": "stream",
     "text": [
      "Populating the interactive namespace from numpy and matplotlib\n"
     ]
    }
   ],
   "source": [
    "%pylab inline"
   ]
  },
  {
   "cell_type": "code",
   "execution_count": 10,
   "metadata": {
    "collapsed": false
   },
   "outputs": [],
   "source": [
    "filename = \"/Users/hantke/davinci/scratch/fhgfs/hantke/complex/04_slab/pull_gmx2016_cp/out/pullx.xvg\"\n",
    "with open(filename, \"r\") as f:\n",
    "    lines = [l for l in f.readlines() if not (l.startswith(\";\") or l.startswith(\"#\") or l.startswith(\"@\"))]\n",
    "    time = array([float(l[:-1].split('\\t')[0]) for l in lines])\n",
    "    xcom = array([float(l[:-1].split('\\t')[1]) for l in lines])\n",
    "    xset = array([float(l[:-1].split('\\t')[2]) for l in lines])"
   ]
  },
  {
   "cell_type": "code",
   "execution_count": 11,
   "metadata": {
    "collapsed": false
   },
   "outputs": [
    {
     "data": {
      "text/plain": [
       "[<matplotlib.lines.Line2D at 0x10d33dc50>]"
      ]
     },
     "execution_count": 11,
     "metadata": {},
     "output_type": "execute_result"
    },
    {
     "data": {
      "image/png": "[encoded data removed]",
      "text/plain": [
       "<matplotlib.figure.Figure at 0x10d33dd90>"
      ]
     },
     "metadata": {},
     "output_type": "display_data"
    }
   ],
   "source": [
    "plot(time, xcom)\n",
    "plot(time, xset)"
   ]
  },
  {
   "cell_type": "code",
   "execution_count": 13,
   "metadata": {
    "collapsed": false
   },
   "outputs": [],
   "source": [
    "import sys\n",
    "sys.path.append(\"/Users/hantke/davinci/home/hantke/complex/md/scripts/gmx_tools/\")\n",
    "import xvg"
   ]
  },
  {
   "cell_type": "code",
   "execution_count": 21,
   "metadata": {
    "collapsed": false
   },
   "outputs": [],
   "source": [
    "[time, xcom, xset] = xvg.read_xvg(filename, ncols=3)\n",
    "x_grid = np.linspace(0, 10, 10)\n",
    "t_grid = np.interp(x_grid, xcom, time)"
   ]
  },
  {
   "cell_type": "code",
   "execution_count": 22,
   "metadata": {
    "collapsed": false
   },
   "outputs": [
    {
     "name": "stdout",
     "output_type": "stream",
     "text": [
      "[  0.           1.11111111   2.22222222   3.33333333   4.44444444\n",
      "   5.55555556   6.66666667   7.77777778   8.88888889  10.        ]\n",
      "[      0.           21941.12123347   44699.25119613   67778.75924079\n",
      "   88319.72498659  110235.37539415  132754.87843444  157154.35917017\n",
      "  184706.38060904  200000.        ]\n"
     ]
    }
   ],
   "source": [
    "print x_grid\n",
    "print t_grid"
   ]
  },
  {
   "cell_type": "code",
   "execution_count": 27,
   "metadata": {
    "collapsed": false
   },
   "outputs": [
    {
     "data": {
      "text/plain": [
       "(0, 210000)"
      ]
     },
     "execution_count": 27,
     "metadata": {},
     "output_type": "execute_result"
    },
    {
     "data": {
      "image/png": "[encoded data removed]",
      "text/plain": [
       "<matplotlib.figure.Figure at 0x10d800090>"
      ]
     },
     "metadata": {},
     "output_type": "display_data"
    }
   ],
   "source": [
    "plot(time, xcom)\n",
    "plot(time, xset)\n",
    "plot(t_grid, x_grid, \".\")\n",
    "for x in x_grid:\n",
    "    axhline(x)\n",
    "ylim(0,11)\n",
    "xlim(0,210000)"
   ]
  },
  {
   "cell_type": "code",
   "execution_count": 19,
   "metadata": {
    "collapsed": true
   },
   "outputs": [],
   "source": [
    "import scipy.constants"
   ]
  },
  {
   "cell_type": "code",
   "execution_count": 20,
   "metadata": {
    "collapsed": false
   },
   "outputs": [
    {
     "data": {
      "text/plain": [
       "9977.400000000001"
      ]
     },
     "execution_count": 20,
     "metadata": {},
     "output_type": "execute_result"
    }
   ],
   "source": [
    "4*8.3145*300"
   ]
  },
  {
   "cell_type": "code",
   "execution_count": null,
   "metadata": {
    "collapsed": true
   },
   "outputs": [],
   "source": []
  }
 ],
 "metadata": {
  "kernelspec": {
   "display_name": "Python 2",
   "language": "python",
   "name": "python2"
  },
  "language_info": {
   "codemirror_mode": {
    "name": "ipython",
    "version": 2
   },
   "file_extension": ".py",
   "mimetype": "text/x-python",
   "name": "python",
   "nbconvert_exporter": "python",
   "pygments_lexer": "ipython2",
   "version": "2.7.10"
  }
 },
 "nbformat": 4,
 "nbformat_minor": 0
}
